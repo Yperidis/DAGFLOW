{
 "cells": [
  {
   "cell_type": "code",
   "execution_count": 1,
   "metadata": {},
   "outputs": [],
   "source": [
    "from sys import path\n",
    "path.append('./C2_code/include/')\n",
    "import C2_code.include.Node as Node\n",
    "import C2_code.include.C2_utils as c2u"
   ]
  },
  {
   "cell_type": "code",
   "execution_count": 2,
   "metadata": {},
   "outputs": [],
   "source": [
    "import networkx as nx\n",
    "import numpy as np\n",
    "import pandas as pd\n",
    "import matplotlib.pyplot as plt\n",
    "from graphviz import Graph\n",
    "import time"
   ]
  },
  {
   "cell_type": "markdown",
   "metadata": {},
   "source": [
    "## Applying external and internal failures: median and average number of survivng connected components (CCs), and the average total number of nodes of a graph, as follows from the ensemble"
   ]
  },
  {
   "cell_type": "code",
   "execution_count": 4,
   "metadata": {},
   "outputs": [
    {
     "name": "stderr",
     "output_type": "stream",
     "text": [
      "/home/stavrogin/Documents/Academics/US_army_corps_engineers/Projects/Decision_theory/Divide_et_impera/C2_code/include/C2_utils.py:51: RuntimeWarning: divide by zero encountered in long_scalars\n",
      "  G.add_node(child_node.ID, Pknow=1/2**((child_node.highercmnd-1)*np.abs(mes)), ID=child_node.ID,\n"
     ]
    }
   ],
   "source": [
    "Failures = [0.01, 0.05, 0.1, 0.15]  # CUSTOMISE\n",
    "Bias = [False, True]\n",
    "MinCCsizes = [1, 3, 5]  # CUSTOMISE\n",
    "heights = [6, 9, 12]  # CUSTOMISE\n",
    "CCNos_Ns = {}\n",
    "\n",
    "for fails in Failures:\n",
    "    for bias in Bias:\n",
    "        TreeEnsemble = c2u.PrunedEnsemble(hmin=6, hmax=13, ExtF=fails, ExtBias=bias)  # CUSTOMISE\n",
    "        for minccsize in MinCCsizes:\n",
    "            CCInfo = c2u.CCNosANDSizes(TreeEnsemble, MinCC=minccsize)\n",
    "            for h in heights:\n",
    "                barh, Ns = [], []\n",
    "                for ell in range(1,h):\n",
    "                    kwd = 'h=' + str(h) + ', ell=' + str(ell)\n",
    "                    barh.append( int(np.round(CCInfo[kwd][1])) )\n",
    "                    Ns.append( CCInfo[kwd][3] )\n",
    "                kwd = 'h=' + str(h) + '_perc=' + str(fails).split('.')[1] + '_percBias=' + str(bias) \\\n",
    "                + '_MinCCsize=' + str(minccsize)\n",
    "                CCNos_Ns[kwd] = [barh, Ns]"
   ]
  },
  {
   "cell_type": "markdown",
   "metadata": {},
   "source": [
    "### Setting up the plots of average number of nodes of graphs and their average number of CCs"
   ]
  },
  {
   "cell_type": "code",
   "execution_count": 5,
   "metadata": {},
   "outputs": [],
   "source": [
    "# Function to set up the plots\n",
    "def C2PercPlots(height, h, kwd):\n",
    "    ell = list(range(1,h))\n",
    "\n",
    "    fig, ax1 = plt.subplots(figsize=(10,5))\n",
    "\n",
    "    color = 'tab:blue'\n",
    "    ax1.set_xlabel(r'$\\ell$', fontsize=20)\n",
    "    ax1.set_ylabel('CC No', color=color, fontsize=15)  # we already handled the x-label with ax1\n",
    "    ax1.bar(ell, height[kwd][0], color=color)\n",
    "    ax1.tick_params(axis='y', labelcolor=color, labelsize=15)\n",
    "    ax1.tick_params(axis='x', labelsize=15)\n",
    "\n",
    "    ax2 = ax1.twinx()  # instantiate a second axes that shares the same x-axis\n",
    "\n",
    "    color = 'tab:red'\n",
    "    ax2.set_ylabel('N', color=color, fontsize=15)\n",
    "    ax2.plot(ell, height[kwd][1], color=color)\n",
    "    ax2.scatter(ell, height[kwd][1], marker='o', c='r')\n",
    "    ax2.tick_params(axis='y', labelcolor=color, labelsize=15)\n",
    "\n",
    "    fig.tight_layout()    "
   ]
  },
  {
   "cell_type": "markdown",
   "metadata": {},
   "source": [
    "#### Saving the data in files"
   ]
  },
  {
   "cell_type": "code",
   "execution_count": 6,
   "metadata": {},
   "outputs": [],
   "source": [
    "path = './Manuscript/Images/'\n",
    "for minccsize in MinCCsizes:\n",
    "    for bias in Bias:\n",
    "        for h in heights:\n",
    "            for fails in Failures: \n",
    "                kwd = 'h=' + str(h) + '_perc=' + str(fails).split('.')[1] + '_percBias=' + str(bias) \\\n",
    "                + '_MinCCsize=' + str(minccsize)\n",
    "                ell = list(range(1,h))\n",
    "                if minccsize == 1:\n",
    "                    if bias:\n",
    "                        Temp = np.array([ell, CCNos_Ns[kwd][0], CCNos_Ns[kwd][1]]).T\n",
    "                        pd.DataFrame(Temp, columns=['ell', 'CCs', 'N']).to_csv(path + 'MinCCSize_1/Non_Uniform_perc/' + kwd + '.csv')\n",
    "                    else:\n",
    "                        Temp = np.array([ell, CCNos_Ns[kwd][0], CCNos_Ns[kwd][1]]).T\n",
    "                        pd.DataFrame(Temp, columns=['ell', 'CCs', 'N']).to_csv(path + 'MinCCSize_1/Uniform_perc/' + kwd + '.csv')\n",
    "                elif minccsize == 3:\n",
    "                    if bias:\n",
    "                        Temp = np.array([ell, CCNos_Ns[kwd][0], CCNos_Ns[kwd][1]]).T\n",
    "                        pd.DataFrame(Temp, columns=['ell', 'CCs', 'N']).to_csv(path + 'MinCCSize_3/Non_Uniform_perc/' + kwd + '.csv')\n",
    "                    else:\n",
    "                        Temp = np.array([ell, CCNos_Ns[kwd][0], CCNos_Ns[kwd][1]]).T\n",
    "                        pd.DataFrame(Temp, columns=['ell', 'CCs', 'N']).to_csv(path + 'MinCCSize_3/Uniform_perc/' + kwd + '.csv')\n",
    "                else:\n",
    "                    if bias:\n",
    "                        Temp = np.array([ell, CCNos_Ns[kwd][0], CCNos_Ns[kwd][1]]).T\n",
    "                        pd.DataFrame(Temp, columns=['ell', 'CCs', 'N']).to_csv(path + 'MinCCSize_5/Non_Uniform_perc/' + kwd + '.csv')\n",
    "                    else:\n",
    "                        Temp = np.array([ell, CCNos_Ns[kwd][0], CCNos_Ns[kwd][1]]).T\n",
    "                        pd.DataFrame(Temp, columns=['ell', 'CCs', 'N']).to_csv(path + 'MinCCSize_5/Uniform_perc/' + kwd + '.csv')"
   ]
  },
  {
   "cell_type": "markdown",
   "metadata": {},
   "source": [
    "#### Saving the plots in designated locations"
   ]
  },
  {
   "cell_type": "code",
   "execution_count": 7,
   "metadata": {},
   "outputs": [],
   "source": [
    "path = './Manuscript/Images/'\n",
    "for minccsize in MinCCsizes:\n",
    "    for bias in Bias:\n",
    "        for h in heights:\n",
    "            for fails in Failures: \n",
    "                kwd = 'h=' + str(h) + '_perc=' + str(fails).split('.')[1] + '_percBias=' + str(bias) \\\n",
    "                + '_MinCCsize=' + str(minccsize)\n",
    "                C2PercPlots(CCNos_Ns, h, kwd)\n",
    "                if minccsize == 1:\n",
    "                    if bias:\n",
    "                        plt.savefig(path + 'MinCCSize_1/Non_Uniform_perc/' + kwd)\n",
    "                        plt.close()\n",
    "                    else:\n",
    "                        plt.savefig(path + 'MinCCSize_1/Uniform_perc/' + kwd)\n",
    "                        plt.close()\n",
    "                elif minccsize == 3:\n",
    "                    if bias:\n",
    "                        plt.savefig(path + 'MinCCSize_3/Non_Uniform_perc/' + kwd)\n",
    "                        plt.close()\n",
    "                    else:\n",
    "                        plt.savefig(path + 'MinCCSize_3/Uniform_perc/' + kwd)\n",
    "                        plt.close()\n",
    "                else:\n",
    "                    if bias:\n",
    "                        plt.savefig(path + 'MinCCSize_5/Non_Uniform_perc/' + kwd)\n",
    "                        plt.close()\n",
    "                    else:\n",
    "                        plt.savefig(path + 'MinCCSize_5/Uniform_perc/' + kwd)\n",
    "                        plt.close()                    "
   ]
  }
 ],
 "metadata": {
  "kernelspec": {
   "display_name": "Python 3",
   "language": "python",
   "name": "python3"
  },
  "language_info": {
   "codemirror_mode": {
    "name": "ipython",
    "version": 3
   },
   "file_extension": ".py",
   "mimetype": "text/x-python",
   "name": "python",
   "nbconvert_exporter": "python",
   "pygments_lexer": "ipython3",
   "version": "3.7.4"
  }
 },
 "nbformat": 4,
 "nbformat_minor": 4
}
