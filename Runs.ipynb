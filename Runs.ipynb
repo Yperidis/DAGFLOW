{
 "cells": [
  {
   "cell_type": "code",
   "execution_count": 2,
   "metadata": {},
   "outputs": [],
   "source": [
    "from sys import path\n",
    "path.append('./C2_code/include/')\n",
    "import C2_code.include.Node as Node\n",
    "import C2_code.include.C2_utils as c2u"
   ]
  },
  {
   "cell_type": "code",
   "execution_count": 3,
   "metadata": {},
   "outputs": [],
   "source": [
    "import networkx as nx\n",
    "import numpy as np\n",
    "import pandas as pd\n",
    "import matplotlib.pyplot as plt\n",
    "from graphviz import Graph\n",
    "import time"
   ]
  },
  {
   "cell_type": "markdown",
   "metadata": {},
   "source": [
    "## Applying external and internal failures. Output: 1) median and average number of survivng connected components (CCs), and the average total number of nodes of a graph, as follows from the ensemble. 2) GCC sizes"
   ]
  },
  {
   "cell_type": "code",
   "execution_count": 70,
   "metadata": {},
   "outputs": [
    {
     "name": "stderr",
     "output_type": "stream",
     "text": [
      "/home/stavrogin/Documents/Academics/US_army_corps_engineers/Projects/Decision_theory/Divide_et_impera/C2_code/include/C2_utils.py:53: RuntimeWarning: divide by zero encountered in long_scalars\n",
      "  G.add_node(child_node.ID, Pknow=1/2**((child_node.highercmnd-1)*np.abs(mes)), ID=child_node.ID,\n"
     ]
    }
   ],
   "source": [
    "Failures = [0.01]#, 0.05, 0.1, 0.15, 0.3]  # CUSTOMISE\n",
    "Bias = [False]  # CUSTOMISE\n",
    "MinCCsizes = [1]  # CUSTOMISE\n",
    "heights = [6, 9, 12]  # CUSTOMISE\n",
    "CCNos_Ns, GCC_Ns, NintFails = {}, {}, {}\n",
    "\n",
    "for fails in Failures:\n",
    "    for bias in Bias:\n",
    "        TreeEnsemble = c2u.PrunedEnsemble(hmin=6, hmax=13, ExtF=fails, ExtBias=bias)  # CUSTOMISE\n",
    "        for minccsize in MinCCsizes:\n",
    "            CCInfo = c2u.CCNosANDSizes(TreeEnsemble[0], MinCC=minccsize)\n",
    "            GCCs = c2u.GCCSize(TreeEnsemble[0])\n",
    "            for h in heights:\n",
    "                barh, Ns, GCCNs = [], [], [] \n",
    "                for ell in range(1,h):\n",
    "                    kwd = 'h=' + str(h) + ', ell=' + str(ell)\n",
    "                    barh.append( int(np.round(CCInfo[kwd][1])) )\n",
    "                    Ns.append( CCInfo[kwd][3] )\n",
    "                    GCCNs.append( GCCs[kwd] )\n",
    "                kwd = 'h=' + str(h) + '_perc=' + str(fails).split('.')[1] + '_percBias=' + str(bias) \\\n",
    "                + '_MinCCsize=' + str(minccsize)\n",
    "                CCNos_Ns[kwd] = [barh, Ns]\n",
    "                GCC_Ns[kwd] = GCCNs\n",
    "                NintFails[kwd] = TreeEnsemble[1][h]  # keeping track of the internal failures per tree height"
   ]
  },
  {
   "cell_type": "markdown",
   "metadata": {},
   "source": [
    "### Setting up the plots of average number of nodes of graphs and their average number of CCs"
   ]
  },
  {
   "cell_type": "code",
   "execution_count": 71,
   "metadata": {},
   "outputs": [],
   "source": [
    "# Function to set up the CC No and total N plots versus ell\n",
    "def C2PercPlots(height, h, kwd):\n",
    "    ell = list(range(1,h))\n",
    "\n",
    "    fig, ax1 = plt.subplots(figsize=(10,5))\n",
    "\n",
    "    color = 'tab:blue'\n",
    "    ax1.set_xlabel(r'$\\ell$', fontsize=25)\n",
    "    ax1.set_ylabel('CC No', color=color, fontsize=20)  # we already handled the x-label with ax1\n",
    "    ax1.bar(ell, height[kwd][0], color=color)\n",
    "    ax1.tick_params(axis='y', labelcolor=color, labelsize=20)\n",
    "    ax1.tick_params(axis='x', labelsize=20)\n",
    "\n",
    "    ax2 = ax1.twinx()  # instantiate a second axes that shares the same x-axis\n",
    "\n",
    "    color = 'tab:red'\n",
    "    ax2.set_ylabel('N', color=color, fontsize=20)\n",
    "    ax2.plot(ell, height[kwd][1], color=color)\n",
    "    ax2.scatter(ell, height[kwd][1], marker='o', c='r')\n",
    "    ax2.tick_params(axis='y', labelcolor=color, labelsize=20)\n",
    "\n",
    "    fig.tight_layout()    "
   ]
  },
  {
   "cell_type": "markdown",
   "metadata": {},
   "source": [
    "### Setting up the plots of GCC sizes versus $\\ell$"
   ]
  },
  {
   "cell_type": "code",
   "execution_count": 72,
   "metadata": {},
   "outputs": [],
   "source": [
    "# Function to set up the GCC sizes versus ell\n",
    "def C2GCCPercSizesPlots(height, h, kwd):\n",
    "    ell = list(range(1,h))\n",
    "\n",
    "    fig, ax = plt.subplots(figsize=(10,5))\n",
    "\n",
    "    ax.set_xlabel(r'$\\ell$', fontsize=25)\n",
    "    ax.set_ylabel(r'$N_{GCC}$', fontsize=20)\n",
    "    ax.plot(ell, height[kwd])\n",
    "    ax.scatter(ell, height[kwd])\n",
    "    ax.tick_params(axis='y', labelsize=20)\n",
    "    ax.tick_params(axis='x', labelsize=20)\n",
    "    \n",
    "    fig.tight_layout()"
   ]
  },
  {
   "cell_type": "markdown",
   "metadata": {},
   "source": [
    "### Setting up the plots of $\\tilde{N}_\\text{int.}$ versus $\\ell$"
   ]
  },
  {
   "cell_type": "code",
   "execution_count": 73,
   "metadata": {},
   "outputs": [],
   "source": [
    "# Function to set up the internal failure size versus ell\n",
    "def C2IntFailsPlots(height, h, kwd):\n",
    "    ell = list(range(1,h))\n",
    "\n",
    "    fig, ax = plt.subplots(figsize=(10,5))\n",
    "\n",
    "    ax.set_xlabel(r'$\\ell$', fontsize=25)\n",
    "    ax.set_ylabel(r'$\\tilde{N}_{int.}$', fontsize=20)\n",
    "    ax.plot(ell, height[kwd])\n",
    "    ax.scatter(ell, height[kwd])\n",
    "    ax.tick_params(axis='y', labelsize=20)\n",
    "    ax.tick_params(axis='x', labelsize=20)\n",
    "    \n",
    "    fig.tight_layout()"
   ]
  },
  {
   "cell_type": "markdown",
   "metadata": {},
   "source": [
    "#### Saving the data in files"
   ]
  },
  {
   "cell_type": "code",
   "execution_count": 74,
   "metadata": {},
   "outputs": [],
   "source": [
    "path = './Manuscript/Images/'\n",
    "for minccsize in MinCCsizes:\n",
    "    for bias in Bias:\n",
    "        for h in heights:\n",
    "            for fails in Failures: \n",
    "                kwd = 'h=' + str(h) + '_perc=' + str(fails).split('.')[1] + '_percBias=' + str(bias) \\\n",
    "                + '_MinCCsize=' + str(minccsize)\n",
    "                ell = list(range(1,h))\n",
    "                if minccsize == 1:\n",
    "                    if bias:\n",
    "                        Temp = np.array([ell, CCNos_Ns[kwd][0], CCNos_Ns[kwd][1]]).T\n",
    "                        pd.DataFrame(Temp, columns=['ell', 'CCs', 'N']).to_csv(path + 'MinCCSize_1/Non_Uniform_perc/' + kwd + '.csv')\n",
    "                        Temp2 = np.array( [ell, GCC_Ns[kwd]] ).T\n",
    "                        pd.DataFrame(Temp2, columns=['ell', 'NGCC']).to_csv(path + 'MinCCSize_1/Non_Uniform_perc/GCC_' + kwd + '.csv')\n",
    "                        Temp3 = np.array( [ell, NintFails[kwd]] ).T\n",
    "                        pd.DataFrame(Temp3, columns=['ell', 'Nint']).to_csv(path + 'MinCCSize_1/Non_Uniform_perc/Nint_' + kwd + '.csv')                        \n",
    "                    else:\n",
    "                        Temp = np.array([ell, CCNos_Ns[kwd][0], CCNos_Ns[kwd][1]]).T\n",
    "                        pd.DataFrame(Temp, columns=['ell', 'CCs', 'N']).to_csv(path + 'MinCCSize_1/Uniform_perc/' + kwd + '.csv')\n",
    "                        Temp2 = np.array( [ell, GCC_Ns[kwd]] ).T\n",
    "                        pd.DataFrame(Temp2, columns=['ell', 'NGCC']).to_csv(path + 'MinCCSize_1/Uniform_perc/GCC_' + kwd + '.csv')\n",
    "                        Temp3 = np.array( [ell, NintFails[kwd]] ).T\n",
    "                        pd.DataFrame(Temp3, columns=['ell', 'Nint']).to_csv(path + 'MinCCSize_1/Uniform_perc/Nint_' + kwd + '.csv')\n",
    "                elif minccsize == 3:\n",
    "                    if bias:\n",
    "                        Temp = np.array([ell, CCNos_Ns[kwd][0], CCNos_Ns[kwd][1]]).T\n",
    "                        pd.DataFrame(Temp, columns=['ell', 'CCs', 'N']).to_csv(path + 'MinCCSize_3/Non_Uniform_perc/' + kwd + '.csv')\n",
    "                        Temp2 = np.array( [ell, GCC_Ns[kwd]] ).T\n",
    "                        pd.DataFrame(Temp2, columns=['ell', 'NGCC']).to_csv(path + 'MinCCSize_3/Non_Uniform_perc/GCC_' + kwd + '.csv')\n",
    "                        Temp3 = np.array( [ell, NintFails[kwd]] ).T\n",
    "                        pd.DataFrame(Temp3, columns=['ell', 'Nint']).to_csv(path + 'MinCCSize_3/Non_Uniform_perc/Nint_' + kwd + '.csv')\n",
    "                    else:\n",
    "                        Temp = np.array([ell, CCNos_Ns[kwd][0], CCNos_Ns[kwd][1]]).T\n",
    "                        pd.DataFrame(Temp, columns=['ell', 'CCs', 'N']).to_csv(path + 'MinCCSize_3/Uniform_perc/' + kwd + '.csv')\n",
    "                        Temp2 = np.array( [ell, GCC_Ns[kwd]] ).T\n",
    "                        pd.DataFrame(Temp2, columns=['ell', 'NGCC']).to_csv(path + 'MinCCSize_3/Uniform_perc/GCC_' + kwd + '.csv')\n",
    "                        Temp3 = np.array( [ell, NintFails[kwd]] ).T\n",
    "                        pd.DataFrame(Temp3, columns=['ell', 'Nint']).to_csv(path + 'MinCCSize_3/Uniform_perc/Nint_' + kwd + '.csv')\n",
    "                else:\n",
    "                    if bias:\n",
    "                        Temp = np.array([ell, CCNos_Ns[kwd][0], CCNos_Ns[kwd][1]]).T\n",
    "                        pd.DataFrame(Temp, columns=['ell', 'CCs', 'N']).to_csv(path + 'MinCCSize_5/Non_Uniform_perc/' + kwd + '.csv')\n",
    "                        Temp2 = np.array( [ell, GCC_Ns[kwd]] ).T\n",
    "                        pd.DataFrame(Temp2, columns=['ell', 'NGCC']).to_csv(path + 'MinCCSize_5/Non_Uniform_perc/GCC_' + kwd + '.csv')\n",
    "                        Temp3 = np.array( [ell, NintFails[kwd]] ).T\n",
    "                        pd.DataFrame(Temp3, columns=['ell', 'Nint']).to_csv(path + 'MinCCSize_5/Non_Uniform_perc/Nint_' + kwd + '.csv')\n",
    "                    else:\n",
    "                        Temp = np.array([ell, CCNos_Ns[kwd][0], CCNos_Ns[kwd][1]]).T\n",
    "                        pd.DataFrame(Temp, columns=['ell', 'CCs', 'N']).to_csv(path + 'MinCCSize_5/Uniform_perc/' + kwd + '.csv')\n",
    "                        Temp2 = np.array( [ell, GCC_Ns[kwd]] ).T\n",
    "                        pd.DataFrame(Temp2, columns=['ell', 'NGCC']).to_csv(path + 'MinCCSize_5/Uniform_perc/GCC_' + kwd + '.csv')\n",
    "                        Temp3 = np.array( [ell, NintFails[kwd]] ).T\n",
    "                        pd.DataFrame(Temp3, columns=['ell', 'Nint']).to_csv(path + 'MinCCSize_5/Uniform_perc/Nint_' + kwd + '.csv')"
   ]
  },
  {
   "cell_type": "markdown",
   "metadata": {},
   "source": [
    "#### Reading the data from files"
   ]
  },
  {
   "cell_type": "code",
   "execution_count": 75,
   "metadata": {},
   "outputs": [],
   "source": [
    "path = './Manuscript/Images/'\n",
    "for minccsize in MinCCsizes:\n",
    "    for bias in Bias:\n",
    "        for h in heights:\n",
    "            for fails in Failures: \n",
    "                kwd = 'h=' + str(h) + '_perc=' + str(fails).split('.')[1] + '_percBias=' + str(bias) \\\n",
    "                + '_MinCCsize=' + str(minccsize)\n",
    "                temp = pd.read_csv(path + 'MinCCSize_1/Uniform_perc/' + kwd + '.csv', usecols=['CCs', 'N'])\n",
    "                CCNos_Ns[kwd] = []\n",
    "                CCNos_Ns[kwd].append( temp['CCs'].values )\n",
    "                CCNos_Ns[kwd].append( temp['N'].values )\n",
    "                GCC_Ns[kwd] = pd.read_csv(path + 'MinCCSize_1/Uniform_perc/GCC_' + kwd + '.csv', usecols=['NGCC'])\n",
    "                NintFails[kwd] = pd.read_csv(path + 'MinCCSize_1/Uniform_perc/Nint_' + kwd + '.csv', usecols=['Nint'])"
   ]
  },
  {
   "cell_type": "markdown",
   "metadata": {},
   "source": [
    "#### Saving the GCC vs $\\ell$ and CC Nos & N vs $\\ell$ plots in designated locations"
   ]
  },
  {
   "cell_type": "code",
   "execution_count": 76,
   "metadata": {},
   "outputs": [],
   "source": [
    "path = './Manuscript/Images/'\n",
    "for minccsize in MinCCsizes:\n",
    "    for bias in Bias:\n",
    "        for h in heights:\n",
    "            for fails in Failures: \n",
    "                kwd = 'h=' + str(h) + '_perc=' + str(fails).split('.')[1] + '_percBias=' + str(bias) \\\n",
    "                + '_MinCCsize=' + str(minccsize)\n",
    "                if minccsize == 1:\n",
    "                    if bias:\n",
    "                        C2PercPlots(CCNos_Ns, h, kwd)\n",
    "                        plt.savefig(path + 'MinCCSize_1/Non_Uniform_perc/' + kwd)\n",
    "                        plt.close()\n",
    "                        C2GCCPercSizesPlots(GCC_Ns, h, kwd)\n",
    "                        plt.savefig(path + 'MinCCSize_1/Non_Uniform_perc/GCC_' + kwd)\n",
    "                        plt.close()\n",
    "                        C2IntFailsPlots(NintFails, h, kwd)\n",
    "                        plt.savefig(path + 'MinCCSize_1/Non_Uniform_perc/Nint_' + kwd)\n",
    "                        plt.close()\n",
    "                    else:\n",
    "                        C2PercPlots(CCNos_Ns, h, kwd)\n",
    "                        plt.savefig(path + 'MinCCSize_1/Uniform_perc/' + kwd)\n",
    "                        plt.close()\n",
    "                        C2GCCPercSizesPlots(GCC_Ns, h, kwd)\n",
    "                        plt.savefig(path + 'MinCCSize_1/Uniform_perc/GCC_' + kwd)\n",
    "                        plt.close()\n",
    "                        C2IntFailsPlots(NintFails, h, kwd)\n",
    "                        plt.savefig(path + 'MinCCSize_1/Uniform_perc/Nint_' + kwd)\n",
    "                        plt.close()\n",
    "                elif minccsize == 3:\n",
    "                    if bias:\n",
    "                        C2PercPlots(CCNos_Ns, h, kwd)\n",
    "                        plt.savefig(path + 'MinCCSize_3/Non_Uniform_perc/' + kwd)\n",
    "                        plt.close()\n",
    "                        C2GCCPercSizesPlots(GCC_Ns, h, kwd)\n",
    "                        plt.savefig(path + 'MinCCSize_3/Non_Uniform_perc/GCC_' + kwd)\n",
    "                        plt.close()\n",
    "                        C2IntFailsPlots(NintFails, h, kwd)\n",
    "                        plt.savefig(path + 'MinCCSize_3/Non_Uniform_perc/Nint_' + kwd)\n",
    "                        plt.close()                                                \n",
    "                    else:\n",
    "                        C2PercPlots(CCNos_Ns, h, kwd)\n",
    "                        plt.savefig(path + 'MinCCSize_3/Uniform_perc/' + kwd)\n",
    "                        plt.close()\n",
    "                        C2GCCPercSizesPlots(GCC_Ns, h, kwd)\n",
    "                        plt.savefig(path + 'MinCCSize_3/Uniform_perc/GCC_' + kwd)\n",
    "                        plt.close()\n",
    "                        C2IntFailsPlots(NintFails, h, kwd)\n",
    "                        plt.savefig(path + 'MinCCSize_3/Uniform_perc/Nint_' + kwd)\n",
    "                        plt.close()                                                \n",
    "                else:\n",
    "                    if bias:\n",
    "                        C2PercPlots(CCNos_Ns, h, kwd)\n",
    "                        plt.savefig(path + 'MinCCSize_5/Non_Uniform_perc/' + kwd)\n",
    "                        plt.close()\n",
    "                        C2GCCPercSizesPlots(GCC_Ns, h, kwd)\n",
    "                        plt.savefig(path + 'MinCCSize_5/Non_Uniform_perc/GCC_' + kwd)\n",
    "                        plt.close()\n",
    "                        C2IntFailsPlots(NintFails, h, height)\n",
    "                        plt.savefig(path + 'MinCCSize_5/Non_Uniform_perc/Nint_' + kwd)\n",
    "                        plt.close()\n",
    "                    else:\n",
    "                        C2PercPlots(CCNos_Ns, h, kwd)\n",
    "                        plt.savefig(path + 'MinCCSize_5/Uniform_perc/' + kwd)\n",
    "                        plt.close()\n",
    "                        C2GCCPercSizesPlots(GCC_Ns, h, kwd)\n",
    "                        plt.savefig(path + 'MinCCSize_5/Uniform_perc/GCC_' + kwd)\n",
    "                        plt.close()\n",
    "                        C2IntFailsPlots(NintFails, h, kwd)\n",
    "                        plt.savefig(path + 'MinCCSize_5/Uniform_perc/Nint_' + kwd)\n",
    "                        plt.close()"
   ]
  },
  {
   "cell_type": "code",
   "execution_count": null,
   "metadata": {},
   "outputs": [],
   "source": []
  }
 ],
 "metadata": {
  "kernelspec": {
   "display_name": "Python 3",
   "language": "python",
   "name": "python3"
  },
  "language_info": {
   "codemirror_mode": {
    "name": "ipython",
    "version": 3
   },
   "file_extension": ".py",
   "mimetype": "text/x-python",
   "name": "python",
   "nbconvert_exporter": "python",
   "pygments_lexer": "ipython3",
   "version": "3.7.4"
  }
 },
 "nbformat": 4,
 "nbformat_minor": 4
}
